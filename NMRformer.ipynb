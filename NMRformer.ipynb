{
 "cells": [
  {
   "cell_type": "code",
   "execution_count": null,
   "metadata": {},
   "outputs": [],
   "source": [
    "import os\n",
    "import plotly.express as px\n",
    "import pandas as pd\n",
    "import numpy as np\n",
    "from scipy import interpolate\n",
    "import plotly.graph_objs as go\n",
    "from ai_model.net import *\n",
    "import math\n",
    "from io import BytesIO\n",
    "import csv\n",
    "import sys\n",
    "from .dataGene import *"
   ]
  },
  {
   "cell_type": "code",
   "execution_count": null,
   "metadata": {},
   "outputs": [],
   "source": [
    "def odata_proceed(data):\n",
    "    x=[float(i[0]) for i in data]\n",
    "    y=[float(i[1]) for i in data]\n",
    "    s=0\n",
    "    e=len(x)-1\n",
    "    for i in range(len(x)):\n",
    "        if x[i]>0:\n",
    "            s=i\n",
    "            break\n",
    "    for i in range(len(x)):\n",
    "        if x[e-i]<12:\n",
    "            e=e-i\n",
    "            break\n",
    "    x=x[s:e+1]\n",
    "    y=y[s:e+1]\n",
    "    for i in range(len(x)):\n",
    "        if y[i]<0:\n",
    "            y[i]=0\n",
    "    for i in range(1000):\n",
    "        y[i]=0\n",
    "    x_1=np.linspace(0,12,60000)\n",
    "    f=interpolate.interp1d(x,y,kind='cubic',bounds_error=False,fill_value=0)\n",
    "    y_1=f(x_1)\n",
    "    y_1=y_1/np.max(y_1)\n",
    "    for i in range(len(y_1)):\n",
    "        if y_1[i]<0.001:\n",
    "            y_1[i]=0\n",
    "    return y_1"
   ]
  },
  {
   "cell_type": "code",
   "execution_count": null,
   "metadata": {},
   "outputs": [],
   "source": [
    "all_meta=[]\n",
    "with open('./all_meta.txt') as f:\n",
    "    lines=f.readlines()\n",
    "    for k in lines:\n",
    "        all_meta.append(k.strip())"
   ]
  },
  {
   "cell_type": "code",
   "execution_count": null,
   "metadata": {},
   "outputs": [],
   "source": [
    "y_data=[]\n",
    "filename1='' #your csv file\n",
    "with open(filename1) as f:\n",
    "    for line in f.readlines():\n",
    "        y_data.append(line.replace('\\n','').split('\\t'))\n",
    "y_data=odata_proceed(y_data)\n",
    "filename2='' #your txt file\n",
    "peaks=[]\n",
    "with open(filename2, 'r') as file:\n",
    "    for line in file:\n",
    "        peaks.append(float(line.strip()))\n"
   ]
  },
  {
   "cell_type": "code",
   "execution_count": null,
   "metadata": {},
   "outputs": [],
   "source": [
    "om=dataGene(allMeta=all_meta)"
   ]
  },
  {
   "cell_type": "code",
   "execution_count": null,
   "metadata": {},
   "outputs": [],
   "source": [
    "output=om.test_m('./onedTrans_0.9710',y_data,peaks)\n",
    "output.to_csv('output.csv')"
   ]
  },
  {
   "cell_type": "code",
   "execution_count": null,
   "metadata": {},
   "outputs": [],
   "source": [
    "#plot\n",
    "x_data = np.linspace(0,12,60000)\n",
    "in_peaks0=np.array(output.peak)\n",
    "labels0=np.array(output.pred_0)\n",
    "trace1 = go.Scatter(x=x_data[::-1], y=y_data[::-1], mode='lines', name='Line',line=dict(color='black'))\n",
    "trace2 = go.Scatter(x=in_peaks0[::-1], y=[y_data[int(in_peaks0[i]*5000)] for i in range(len(in_peaks0))][::-1], mode='markers', name='Markers', text=labels0[::-1], \n",
    "                    marker=dict(size=5))\n",
    "data = [trace1, trace2]\n",
    "layout = go.Layout(xaxis=dict(\n",
    "        autorange='reversed'  \n",
    "    ),title='result')\n",
    "fig = go.Figure(data=data, layout=layout)\n",
    "fig.update_layout(\n",
    "    xaxis=dict(showgrid=True),\n",
    "    yaxis=dict(showgrid=False),\n",
    "    plot_bgcolor='white',\n",
    ")"
   ]
  }
 ],
 "metadata": {
  "language_info": {
   "name": "python"
  }
 },
 "nbformat": 4,
 "nbformat_minor": 2
}
